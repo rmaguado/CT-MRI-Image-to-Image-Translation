{
 "cells": [
  {
   "cell_type": "code",
   "execution_count": null,
   "metadata": {},
   "outputs": [],
   "source": [
    "import torch\n",
    "import os\n",
    "import json\n",
    "from matplotlib import pyplot as plt\n",
    "import sys\n",
    "sys.path.append('/nfs/home/clruben/workspace/nst/')\n",
    "\n",
    "from dataloaders import Dataloader\n",
    "from models.maegan.network import MaeGanLM\n",
    "\n",
    "torch.set_float32_matmul_precision('medium')"
   ]
  },
  {
   "cell_type": "code",
   "execution_count": null,
   "metadata": {},
   "outputs": [],
   "source": [
    "CONFIG_PATH = \"/nfs/home/clruben/workspace/nst/models/maegan/config.json\"\n",
    "\n",
    "with open(CONFIG_PATH, encoding=\"utf-8\") as file:\n",
    "    config = json.load(file)"
   ]
  },
  {
   "cell_type": "code",
   "execution_count": null,
   "metadata": {},
   "outputs": [],
   "source": [
    "DATA_PATH = \"/nfs/home/clruben/workspace/nst/data/\"\n",
    "\n",
    "test_loader = Dataloader(\n",
    "    DATA_PATH,\n",
    "    'test',\n",
    "    batch_size=config[\"batch_size\"]\n",
    ")"
   ]
  },
  {
   "cell_type": "code",
   "execution_count": null,
   "metadata": {},
   "outputs": [],
   "source": [
    "### sample inference code: \n",
    "\n",
    "checkpoint = \"/nfs/home/clruben/workspace/nst/models/maegan/checkpoints/model_checkpoint-v1.ckpt\"\n",
    "checkpoint_module = MaeGanLM.load_from_checkpoint(checkpoint, config=config)\n",
    "\n",
    "# choose your trained nn.Module\n",
    "model = checkpoint_module.model\n",
    "model.eval() # set model to eval mode (for dropout and batchnorm)"
   ]
  },
  {
   "cell_type": "code",
   "execution_count": null,
   "metadata": {},
   "outputs": [],
   "source": [
    "# embed 4 fake images!\n",
    "images, data_type = test_loader.__next__()\n",
    "outputs = model.forward_mae(images.cuda(), data_type)"
   ]
  },
  {
   "cell_type": "code",
   "execution_count": null,
   "metadata": {},
   "outputs": [],
   "source": [
    "is_nan = torch.stack([torch.isnan(p).any() for p in model.parameters()]).any()\n",
    "print(is_nan)"
   ]
  },
  {
   "cell_type": "code",
   "execution_count": null,
   "metadata": {},
   "outputs": [],
   "source": [
    "outputs[0].shape"
   ]
  },
  {
   "cell_type": "code",
   "execution_count": null,
   "metadata": {},
   "outputs": [],
   "source": [
    "images = model.unpatchify(outputs[0].detach().cpu()).numpy()"
   ]
  },
  {
   "cell_type": "code",
   "execution_count": null,
   "metadata": {},
   "outputs": [],
   "source": [
    "plt.imshow(images[0][0])"
   ]
  },
  {
   "cell_type": "code",
   "execution_count": null,
   "metadata": {},
   "outputs": [],
   "source": []
  }
 ],
 "metadata": {
  "kernelspec": {
   "display_name": ".env",
   "language": "python",
   "name": "python3"
  },
  "language_info": {
   "codemirror_mode": {
    "name": "ipython",
    "version": 3
   },
   "file_extension": ".py",
   "mimetype": "text/x-python",
   "name": "python",
   "nbconvert_exporter": "python",
   "pygments_lexer": "ipython3",
   "version": "3.10.9"
  },
  "orig_nbformat": 4
 },
 "nbformat": 4,
 "nbformat_minor": 2
}
